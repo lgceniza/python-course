{
 "cells": [
  {
   "cell_type": "code",
   "execution_count": 23,
   "metadata": {},
   "outputs": [
    {
     "name": "stdout",
     "output_type": "stream",
     "text": [
      "  Fur Color  Count\n",
      "0      Gray   2473\n",
      "1  Cinnamon    392\n",
      "2     Black    103\n"
     ]
    }
   ],
   "source": [
    "import pandas as pd\n",
    "\n",
    "df = pd.read_csv('squirrel_data.csv')\n",
    "\n",
    "new_df = df[\"Primary Fur Color\"]\n",
    "new_df.dropna(axis='index', inplace=True)\n",
    "\n",
    "colors_count = new_df.value_counts()\n",
    "colors = new_df.unique()\n",
    "\n",
    "colors_df = pd.DataFrame({'Fur Color': colors, 'Count': colors_count}).reset_index(drop=True)\n",
    "colors_df.to_csv('squirrel_count.csv')\n",
    "\n",
    "print(colors_df)\n"
   ]
  }
 ],
 "metadata": {
  "kernelspec": {
   "display_name": "Python 3.10.8 ('python-course': venv)",
   "language": "python",
   "name": "python3"
  },
  "language_info": {
   "codemirror_mode": {
    "name": "ipython",
    "version": 3
   },
   "file_extension": ".py",
   "mimetype": "text/x-python",
   "name": "python",
   "nbconvert_exporter": "python",
   "pygments_lexer": "ipython3",
   "version": "3.10.8"
  },
  "orig_nbformat": 4,
  "vscode": {
   "interpreter": {
    "hash": "e20d0833527832efb7a55854f3eff42c61faa264e0c7e6514cb7b88bbef95bf2"
   }
  }
 },
 "nbformat": 4,
 "nbformat_minor": 2
}
